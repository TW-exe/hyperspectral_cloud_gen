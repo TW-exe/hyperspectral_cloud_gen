{
 "cells": [
  {
   "cell_type": "code",
   "execution_count": 1,
   "metadata": {},
   "outputs": [
    {
     "data": {
      "text/plain": [
       "'\\nCreated on Tue Apr 18 13:46:48 2023\\n\\nL9 data products from 10 countries:\\n    - USA\\n    - Canada\\n    - Brazil\\n    - South Africa\\n    - Egypt\\n    - China\\n    - Australia\\n    - Russia\\n    - Japan \\n    - UK\\n    \\nPreprocesses L9 data products by:\\n    - converting tif to numpy\\n    - converting DN to TOA reflectance using rescaling factors\\n    - correcting TOA reflectance for the sun angle\\n    - extracting cloudmasks from quality assessment band\\n    - saving cropped datacubes (8 bands) and cloudmasks as numpy arrays (this is used for labelling and training models)\\nAlso,\\n    - saves thumbnails of full scene (uncropped) and cloudmask (uncropped) as png images \\n\\n@author: andrew\\n'"
      ]
     },
     "execution_count": 1,
     "metadata": {},
     "output_type": "execute_result"
    }
   ],
   "source": [
    "\"\"\"\n",
    "Created on Tue Apr 18 13:46:48 2023\n",
    "\n",
    "L9 data products from 10 countries:\n",
    "    - USA\n",
    "    - Canada\n",
    "    - Brazil\n",
    "    - South Africa\n",
    "    - Egypt\n",
    "    - China\n",
    "    - Australia\n",
    "    - Russia\n",
    "    - Japan \n",
    "    - UK\n",
    "    \n",
    "Preprocesses L9 data products by:\n",
    "    - converting tif to numpy\n",
    "    - converting DN to TOA reflectance using rescaling factors\n",
    "    - correcting TOA reflectance for the sun angle\n",
    "    - extracting cloudmasks from quality assessment band\n",
    "    - saving cropped datacubes (8 bands) and cloudmasks as numpy arrays (this is used for labelling and training models)\n",
    "Also,\n",
    "    - saves thumbnails of full scene (uncropped) and cloudmask (uncropped) as png images \n",
    "\n",
    "@author: andrew\n",
    "\"\"\""
   ]
  },
  {
   "cell_type": "code",
   "execution_count": 2,
   "metadata": {},
   "outputs": [],
   "source": [
    "#libraries for processing the images \n",
    "from PIL import Image\n",
    "import numpy as np\n",
    "import os\n",
    "import xmltodict"
   ]
  },
  {
   "cell_type": "code",
   "execution_count": 3,
   "metadata": {},
   "outputs": [],
   "source": [
    "# Landsat 9 product directory\n",
    "product_dict = 'datasets/Landsat-9-Level-1/products'"
   ]
  },
  {
   "cell_type": "code",
   "execution_count": 4,
   "metadata": {},
   "outputs": [
    {
     "name": "stdout",
     "output_type": "stream",
     "text": [
      "convert tif to numpy\n"
     ]
    }
   ],
   "source": [
    "# Convert TIFF to NPY\n",
    "print('convert tif to numpy')\n",
    "b1 = np.asarray(Image.open(f'{product_dict}/LC09_L1TP_100080_20240110_20240110_02_T1/LC09_L1TP_100080_20240110_20240110_02_T1_B1.TIF'))\n",
    "b2 = np.asarray(Image.open(f'{product_dict}/LC09_L1TP_100080_20240110_20240110_02_T1/LC09_L1TP_100080_20240110_20240110_02_T1_B2.TIF'))\n",
    "b3 = np.asarray(Image.open(f'{product_dict}/LC09_L1TP_100080_20240110_20240110_02_T1/LC09_L1TP_100080_20240110_20240110_02_T1_B3.TIF'))\n",
    "b4 = np.asarray(Image.open(f'{product_dict}/LC09_L1TP_100080_20240110_20240110_02_T1/LC09_L1TP_100080_20240110_20240110_02_T1_B4.TIF'))\n",
    "b5 = np.asarray(Image.open(f'{product_dict}/LC09_L1TP_100080_20240110_20240110_02_T1/LC09_L1TP_100080_20240110_20240110_02_T1_B5.TIF'))\n",
    "b6 = np.asarray(Image.open(f'{product_dict}/LC09_L1TP_100080_20240110_20240110_02_T1/LC09_L1TP_100080_20240110_20240110_02_T1_B6.TIF'))\n",
    "b7 = np.asarray(Image.open(f'{product_dict}/LC09_L1TP_100080_20240110_20240110_02_T1/LC09_L1TP_100080_20240110_20240110_02_T1_B7.TIF'))\n",
    "b9 = np.asarray(Image.open(f'{product_dict}/LC09_L1TP_100080_20240110_20240110_02_T1/LC09_L1TP_100080_20240110_20240110_02_T1_B9.TIF'))\n",
    "qa_pixel = np.asarray(Image.open(f'{product_dict}/LC09_L1TP_100080_20240110_20240110_02_T1/LC09_L1TP_100080_20240110_20240110_02_T1_QA_PIXEL.TIF'))\n"
   ]
  },
  {
   "cell_type": "code",
   "execution_count": 5,
   "metadata": {},
   "outputs": [
    {
     "name": "stdout",
     "output_type": "stream",
     "text": [
      "convert DN to TOA reflectance using rescaling factor\n"
     ]
    }
   ],
   "source": [
    "\n",
    "# Convert metadata xml to dictionary\n",
    "print('convert DN to TOA reflectance using rescaling factor')\n",
    "with open(f'{product_dict}/LC09_L1TP_100080_20240110_20240110_02_T1/LC09_L1TP_100080_20240110_20240110_02_T1_MTL.xml', 'r', encoding='utf-8') as file:\n",
    "    xml = file.read()"
   ]
  },
  {
   "cell_type": "code",
   "execution_count": 6,
   "metadata": {},
   "outputs": [],
   "source": [
    "xml_dict = xmltodict.parse(xml)"
   ]
  },
  {
   "cell_type": "code",
   "execution_count": 7,
   "metadata": {},
   "outputs": [],
   "source": [
    "# Multiplicative rescaling factors\n",
    "mult_factor1 = float(xml_dict['LANDSAT_METADATA_FILE']['LEVEL1_RADIOMETRIC_RESCALING']['REFLECTANCE_MULT_BAND_1'])\n",
    "mult_factor2 = float(xml_dict['LANDSAT_METADATA_FILE']['LEVEL1_RADIOMETRIC_RESCALING']['REFLECTANCE_MULT_BAND_2'])\n",
    "mult_factor3 = float(xml_dict['LANDSAT_METADATA_FILE']['LEVEL1_RADIOMETRIC_RESCALING']['REFLECTANCE_MULT_BAND_3'])\n",
    "mult_factor4 = float(xml_dict['LANDSAT_METADATA_FILE']['LEVEL1_RADIOMETRIC_RESCALING']['REFLECTANCE_MULT_BAND_4'])\n",
    "mult_factor5 = float(xml_dict['LANDSAT_METADATA_FILE']['LEVEL1_RADIOMETRIC_RESCALING']['REFLECTANCE_MULT_BAND_5'])\n",
    "mult_factor6 = float(xml_dict['LANDSAT_METADATA_FILE']['LEVEL1_RADIOMETRIC_RESCALING']['REFLECTANCE_MULT_BAND_6'])\n",
    "mult_factor7 = float(xml_dict['LANDSAT_METADATA_FILE']['LEVEL1_RADIOMETRIC_RESCALING']['REFLECTANCE_MULT_BAND_7'])\n",
    "mult_factor9 = float(xml_dict['LANDSAT_METADATA_FILE']['LEVEL1_RADIOMETRIC_RESCALING']['REFLECTANCE_MULT_BAND_9'])\n"
   ]
  },
  {
   "cell_type": "code",
   "execution_count": 8,
   "metadata": {},
   "outputs": [],
   "source": [
    "\n",
    "# Additive rescaling factors\n",
    "add_factor1 = float(xml_dict['LANDSAT_METADATA_FILE']['LEVEL1_RADIOMETRIC_RESCALING']['REFLECTANCE_ADD_BAND_1'])\n",
    "add_factor2 = float(xml_dict['LANDSAT_METADATA_FILE']['LEVEL1_RADIOMETRIC_RESCALING']['REFLECTANCE_ADD_BAND_2'])\n",
    "add_factor3 = float(xml_dict['LANDSAT_METADATA_FILE']['LEVEL1_RADIOMETRIC_RESCALING']['REFLECTANCE_ADD_BAND_3'])\n",
    "add_factor4 = float(xml_dict['LANDSAT_METADATA_FILE']['LEVEL1_RADIOMETRIC_RESCALING']['REFLECTANCE_ADD_BAND_4'])\n",
    "add_factor5 = float(xml_dict['LANDSAT_METADATA_FILE']['LEVEL1_RADIOMETRIC_RESCALING']['REFLECTANCE_ADD_BAND_5'])\n",
    "add_factor6 = float(xml_dict['LANDSAT_METADATA_FILE']['LEVEL1_RADIOMETRIC_RESCALING']['REFLECTANCE_ADD_BAND_6'])\n",
    "add_factor7 = float(xml_dict['LANDSAT_METADATA_FILE']['LEVEL1_RADIOMETRIC_RESCALING']['REFLECTANCE_ADD_BAND_7'])\n",
    "add_factor9 = float(xml_dict['LANDSAT_METADATA_FILE']['LEVEL1_RADIOMETRIC_RESCALING']['REFLECTANCE_ADD_BAND_9'])\n"
   ]
  },
  {
   "cell_type": "code",
   "execution_count": 9,
   "metadata": {},
   "outputs": [],
   "source": [
    "# Convert DN to TOA reflectance using rescaling factors (without correction for the sun angle) \n",
    "b1r = np.float32((mult_factor1 * b1))\n",
    "b2r = np.float32((mult_factor2 * b2))\n",
    "b3r = np.float32((mult_factor3 * b3))\n",
    "b4r = np.float32((mult_factor4 * b4))\n",
    "b5r = np.float32((mult_factor1 * b5))\n",
    "b6r = np.float32((mult_factor2 * b6))\n",
    "b7r = np.float32((mult_factor3 * b7))\n",
    "b9r = np.float32((mult_factor4 * b9))"
   ]
  },
  {
   "cell_type": "code",
   "execution_count": 10,
   "metadata": {},
   "outputs": [
    {
     "name": "stdout",
     "output_type": "stream",
     "text": [
      "correct TOA reflectance for the sun angle\n"
     ]
    }
   ],
   "source": [
    "# TOA reflectance with correction for the sun angle\n",
    "print('correct TOA reflectance for the sun angle')\n",
    "sun_elevation = float(xml_dict['LANDSAT_METADATA_FILE']['IMAGE_ATTRIBUTES']['SUN_ELEVATION']) # degrees\n",
    "\n",
    "b1r = b1r / np.cos(sun_elevation * (np.pi/180))\n",
    "b2r = b2r / np.cos(sun_elevation * (np.pi/180))\n",
    "b3r = b3r / np.cos(sun_elevation * (np.pi/180))\n",
    "b4r = b4r / np.cos(sun_elevation * (np.pi/180))\n",
    "b5r = b5 / np.cos(sun_elevation * (np.pi/180))\n",
    "b6r = b6 / np.cos(sun_elevation * (np.pi/180))\n",
    "b7r = b7r / np.cos(sun_elevation * (np.pi/180))\n",
    "b9r = b9r / np.cos(sun_elevation * (np.pi/180))"
   ]
  },
  {
   "cell_type": "code",
   "execution_count": 11,
   "metadata": {},
   "outputs": [
    {
     "name": "stdout",
     "output_type": "stream",
     "text": [
      "concatenate bands together\n"
     ]
    }
   ],
   "source": [
    "# Concatenate bands\n",
    "print('concatenate bands together')\n",
    "bands = np.stack((b1r, b2r, b3r, b4r, b5r, b6r, b7r, b9r))"
   ]
  },
  {
   "cell_type": "code",
   "execution_count": 12,
   "metadata": {},
   "outputs": [],
   "source": [
    "# taking the centre section of picture for proof of concept \n",
    "cropped_bands = bands[:,2000:2512,2000:2512]\n"
   ]
  },
  {
   "cell_type": "code",
   "execution_count": 13,
   "metadata": {},
   "outputs": [
    {
     "name": "stdout",
     "output_type": "stream",
     "text": [
      "move axis of band\n"
     ]
    }
   ],
   "source": [
    "# move axis 0 to axis 2 - 7911x7831x13\n",
    "print('move axis of band')\n",
    "cropped_bands = np.moveaxis(cropped_bands, 0, 2)"
   ]
  },
  {
   "cell_type": "code",
   "execution_count": 28,
   "metadata": {},
   "outputs": [],
   "source": [
    "# Save RGB image\n",
    "band432 = np.stack((b4r, b3r, b2r))"
   ]
  },
  {
   "cell_type": "code",
   "execution_count": 29,
   "metadata": {},
   "outputs": [],
   "source": [
    "\n",
    "cropped_band432 = band432[:,2000:2512,2000:2512]\n",
    "cropped_band432 =  np.moveaxis(cropped_band432, 0, 2)"
   ]
  },
  {
   "cell_type": "code",
   "execution_count": 30,
   "metadata": {},
   "outputs": [],
   "source": [
    "band432 = np.moveaxis(band432, 0, 2)\n",
    "image = Image.fromarray(np.uint8(band432*255))"
   ]
  },
  {
   "cell_type": "code",
   "execution_count": 15,
   "metadata": {},
   "outputs": [],
   "source": [
    "image.show()"
   ]
  },
  {
   "cell_type": "code",
   "execution_count": 16,
   "metadata": {},
   "outputs": [
    {
     "data": {
      "text/plain": [
       "(7821, 7751, 3)"
      ]
     },
     "execution_count": 16,
     "metadata": {},
     "output_type": "execute_result"
    }
   ],
   "source": [
    "band432.shape"
   ]
  },
  {
   "cell_type": "code",
   "execution_count": 17,
   "metadata": {},
   "outputs": [],
   "source": [
    "np.save('npfiles/bands.npy',bands)"
   ]
  },
  {
   "cell_type": "code",
   "execution_count": 15,
   "metadata": {},
   "outputs": [],
   "source": [
    "np.save('npfiles/cropped_bands', cropped_bands)"
   ]
  },
  {
   "cell_type": "code",
   "execution_count": 16,
   "metadata": {},
   "outputs": [],
   "source": [
    "np.save('npfiles/band432.npy',band432)"
   ]
  },
  {
   "cell_type": "code",
   "execution_count": 34,
   "metadata": {},
   "outputs": [],
   "source": [
    "np.save('npfiles/cropped_band432', cropped_band432)"
   ]
  },
  {
   "cell_type": "markdown",
   "metadata": {},
   "source": [
    "## script to save the rgb frequencies as a png image"
   ]
  },
  {
   "cell_type": "code",
   "execution_count": null,
   "metadata": {},
   "outputs": [],
   "source": [
    "k= \"rgb\"\n",
    "savedir = r\"C:\\Users\\thoma\\AIML2024Summer\\preprocess_results\"\n",
    "filename = \"LC09_L1TP_039025_20230417_20230417_02_T1\"\n",
    "\n",
    "image.save(f'{savedir}\\\\png\\\\bands432\\\\{filename}_{k}.png')"
   ]
  }
 ],
 "metadata": {
  "kernelspec": {
   "display_name": "cloudGen",
   "language": "python",
   "name": "python3"
  },
  "language_info": {
   "codemirror_mode": {
    "name": "ipython",
    "version": 3
   },
   "file_extension": ".py",
   "mimetype": "text/x-python",
   "name": "python",
   "nbconvert_exporter": "python",
   "pygments_lexer": "ipython3",
   "version": "3.9.18"
  }
 },
 "nbformat": 4,
 "nbformat_minor": 2
}
